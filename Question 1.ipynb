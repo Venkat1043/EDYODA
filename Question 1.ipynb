{
 "cells": [
  {
   "cell_type": "markdown",
   "id": "46a5fd93",
   "metadata": {},
   "source": [
    "## Write a Python function to sum all the numbers in a list.\n",
    "\n",
    "## Sample List : (8, 2, 3, 0, 7)\n",
    "## Expected Output : 20"
   ]
  },
  {
   "cell_type": "markdown",
   "id": "4f787f0a",
   "metadata": {},
   "source": [
    "## Explanation:\n",
    "## Summation should like 8+2+3+0+7 = 20"
   ]
  },
  {
   "cell_type": "code",
   "execution_count": 2,
   "id": "c1623e90",
   "metadata": {},
   "outputs": [
    {
     "name": "stdout",
     "output_type": "stream",
     "text": [
      "Expected Output: 20\n"
     ]
    }
   ],
   "source": [
    "def sum_list(numbers):\n",
    "    total = 0\n",
    "    for i in numbers:\n",
    "        total += i\n",
    "    return total\n",
    "\n",
    "sample_list = [8, 2, 3, 0, 7]\n",
    "result = sum_list(sample_list)\n",
    "print(\"Expected Output:\", result)"
   ]
  },
  {
   "cell_type": "code",
   "execution_count": null,
   "id": "db6407b3",
   "metadata": {},
   "outputs": [],
   "source": []
  }
 ],
 "metadata": {
  "kernelspec": {
   "display_name": "Python 3 (ipykernel)",
   "language": "python",
   "name": "python3"
  },
  "language_info": {
   "codemirror_mode": {
    "name": "ipython",
    "version": 3
   },
   "file_extension": ".py",
   "mimetype": "text/x-python",
   "name": "python",
   "nbconvert_exporter": "python",
   "pygments_lexer": "ipython3",
   "version": "3.10.9"
  }
 },
 "nbformat": 4,
 "nbformat_minor": 5
}
