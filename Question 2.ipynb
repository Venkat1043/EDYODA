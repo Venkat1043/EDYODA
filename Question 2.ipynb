{
 "cells": [
  {
   "cell_type": "markdown",
   "id": "8f6de29d",
   "metadata": {},
   "source": [
    "## Write a Python program that accepts a word from the user and reverse it.\n",
    "\n",
    "Sample Test Case\n",
    "Input : Edyoda\n",
    "output: adoydE"
   ]
  },
  {
   "cell_type": "code",
   "execution_count": 6,
   "id": "cb832bc8",
   "metadata": {},
   "outputs": [
    {
     "name": "stdout",
     "output_type": "stream",
     "text": [
      "Please enter a word to reverse it : venky\n",
      "yknev"
     ]
    }
   ],
   "source": [
    "Name = input(\"Please enter a word to reverse it : \" )\n",
    "\n",
    "for i in range(len(Name)-1,-1,-1):\n",
    "    print(Name[i], end = '');"
   ]
  },
  {
   "cell_type": "code",
   "execution_count": null,
   "id": "7668a638",
   "metadata": {},
   "outputs": [],
   "source": []
  }
 ],
 "metadata": {
  "kernelspec": {
   "display_name": "Python 3 (ipykernel)",
   "language": "python",
   "name": "python3"
  },
  "language_info": {
   "codemirror_mode": {
    "name": "ipython",
    "version": 3
   },
   "file_extension": ".py",
   "mimetype": "text/x-python",
   "name": "python",
   "nbconvert_exporter": "python",
   "pygments_lexer": "ipython3",
   "version": "3.10.9"
  }
 },
 "nbformat": 4,
 "nbformat_minor": 5
}
