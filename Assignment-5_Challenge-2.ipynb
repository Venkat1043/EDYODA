{
 "cells": [
  {
   "cell_type": "markdown",
   "id": "5c531510",
   "metadata": {},
   "source": [
    "## Challenge 2: Implement a Calculator Class\n",
    "* In this exercise, you have to implement a calculator that can perform addition, subtraction, multiplication, and division."
   ]
  },
  {
   "cell_type": "markdown",
   "id": "140c7ded",
   "metadata": {},
   "source": [
    "## Problem statement Write a Python class called Calculator by completing the tasks below:\n",
    "Task 1\n",
    "\n",
    "👉 Initializer\n",
    "## Implement an initializer to initialize the values of num1 and num2. Properties\n",
    "* num1\n",
    "* num2"
   ]
  },
  {
   "cell_type": "markdown",
   "id": "4ac981ad",
   "metadata": {},
   "source": [
    "## Task 2\n",
    "\n",
    "👉 Methods\n",
    "* add() is a method that returns the sum of num1 and num2.\n",
    "* subtract() is a method that returns the subtraction of num1 from num2.\n",
    "* multiply() is a method that returns the product of num1 and num2.\n",
    "* divide() is a method that returns the division of num2 by num1.\n",
    "* Input - Pass numbers (integers or floats) in the initializer.\n",
    "* Output - addition, subtraction, division, and multiplication"
   ]
  },
  {
   "cell_type": "markdown",
   "id": "1cd6ead7",
   "metadata": {},
   "source": [
    "## Sample input\n",
    "* obj = Calculator(10, 94)\n",
    "* obj.add()\n",
    "* obj.subtract()\n",
    "* obj.multiply()\n",
    "* obj.divide()\n",
    "\n",
    "## Sample output\n",
    "* 104\n",
    "* 84\n",
    "* 940\n",
    "* 9.4"
   ]
  },
  {
   "cell_type": "code",
   "execution_count": 2,
   "id": "b30be059",
   "metadata": {},
   "outputs": [
    {
     "name": "stdout",
     "output_type": "stream",
     "text": [
      "First number is : 10\n",
      "Second number is : 94\n",
      "\n",
      "104\n",
      "84\n",
      "940\n",
      "9.4\n"
     ]
    }
   ],
   "source": [
    "class Calculator:\n",
    "    def __init__(self,num1,num2):\n",
    "        self.num1= num1\n",
    "        self.num2= num2\n",
    "    def add(self):\n",
    "        return self.num1 + self.num2\n",
    "    def subtract(self):\n",
    "        return self.num2 -  self.num1\n",
    "    def multiply(self):\n",
    "        return self.num1 * self.num2\n",
    "    def divide(self):\n",
    "        return self.num2 / self.num1\n",
    "    \n",
    "num1_value = int(input(\"First number is : \"))\n",
    "num2_value = int(input(\"Second number is : \"))\n",
    "\n",
    "obj = Calculator(num1_value,num2_value)\n",
    "\n",
    "print()\n",
    "print(obj.add())\n",
    "print(obj.subtract())\n",
    "print(obj.multiply())\n",
    "print(obj.divide())"
   ]
  },
  {
   "cell_type": "code",
   "execution_count": null,
   "id": "0f67c86a",
   "metadata": {},
   "outputs": [],
   "source": []
  }
 ],
 "metadata": {
  "kernelspec": {
   "display_name": "Python 3 (ipykernel)",
   "language": "python",
   "name": "python3"
  },
  "language_info": {
   "codemirror_mode": {
    "name": "ipython",
    "version": 3
   },
   "file_extension": ".py",
   "mimetype": "text/x-python",
   "name": "python",
   "nbconvert_exporter": "python",
   "pygments_lexer": "ipython3",
   "version": "3.10.9"
  }
 },
 "nbformat": 4,
 "nbformat_minor": 5
}
