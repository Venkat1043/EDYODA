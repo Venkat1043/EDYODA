{
 "cells": [
  {
   "cell_type": "markdown",
   "id": "215857ff",
   "metadata": {},
   "source": [
    "## Write a Python program to triple all numbers of a given list of integers. Use Python map.\n",
    "## sample list: [1, 2, 3, 4, 5, 6, 7]\n",
    "\n",
    "\n",
    "## Triple of list numbers:\n",
    "## [3, 6, 9, 12, 15, 18, 21]"
   ]
  },
  {
   "cell_type": "code",
   "execution_count": 1,
   "id": "c61427e5",
   "metadata": {},
   "outputs": [
    {
     "name": "stdout",
     "output_type": "stream",
     "text": [
      "Sample list: [1, 2, 3, 4, 5, 6, 7]\n",
      "Triple of list numbers:\n",
      "[3, 6, 9, 12, 15, 18, 21]\n"
     ]
    }
   ],
   "source": [
    "def triple_number(x):\n",
    "    return x * 3\n",
    "\n",
    "numbers = [1, 2, 3, 4, 5, 6, 7]\n",
    "\n",
    "tripled_numbers = list(map(triple_number, numbers))\n",
    "\n",
    "print(\"Sample list:\", numbers)\n",
    "print(\"Triple of list numbers:\")\n",
    "print(tripled_numbers)"
   ]
  },
  {
   "cell_type": "code",
   "execution_count": null,
   "id": "00aae18c",
   "metadata": {},
   "outputs": [],
   "source": []
  },
  {
   "cell_type": "code",
   "execution_count": null,
   "id": "8f7078a4",
   "metadata": {},
   "outputs": [],
   "source": []
  }
 ],
 "metadata": {
  "kernelspec": {
   "display_name": "Python 3 (ipykernel)",
   "language": "python",
   "name": "python3"
  },
  "language_info": {
   "codemirror_mode": {
    "name": "ipython",
    "version": 3
   },
   "file_extension": ".py",
   "mimetype": "text/x-python",
   "name": "python",
   "nbconvert_exporter": "python",
   "pygments_lexer": "ipython3",
   "version": "3.10.9"
  }
 },
 "nbformat": 4,
 "nbformat_minor": 5
}
