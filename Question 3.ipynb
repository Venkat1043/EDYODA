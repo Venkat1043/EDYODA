{
 "cells": [
  {
   "cell_type": "markdown",
   "id": "1eaaf23f",
   "metadata": {},
   "source": [
    "## Write a Python program to count the number of even and odd numbers from a series of numbers.\n",
    "Sample numbers : numbers = (1, 2, 3, 4, 5, 6, 7, 8, 9) \n",
    "Expected Output :\n",
    "Number of even numbers : 4\n",
    "Number of odd numbers : 5"
   ]
  },
  {
   "cell_type": "code",
   "execution_count": 1,
   "id": "b60948de",
   "metadata": {},
   "outputs": [
    {
     "name": "stdout",
     "output_type": "stream",
     "text": [
      "Enter the number of values: 123456789\n",
      "Number of even:  4\n",
      "Number of odd:  5\n"
     ]
    }
   ],
   "source": [
    "n = int(input('Enter the number of values: '))\n",
    "even = 0\n",
    "odd = 0\n",
    "while n>0:\n",
    "    if n%2==0:\n",
    "        even +=1\n",
    "        n=n//10\n",
    "    else:\n",
    "        odd +=1\n",
    "        n=n//10\n",
    "        \n",
    "print(\"Number of even: \", even)\n",
    "print(\"Number of odd: \", odd)\n"
   ]
  },
  {
   "cell_type": "code",
   "execution_count": null,
   "id": "1149367e",
   "metadata": {},
   "outputs": [],
   "source": []
  }
 ],
 "metadata": {
  "kernelspec": {
   "display_name": "Python 3 (ipykernel)",
   "language": "python",
   "name": "python3"
  },
  "language_info": {
   "codemirror_mode": {
    "name": "ipython",
    "version": 3
   },
   "file_extension": ".py",
   "mimetype": "text/x-python",
   "name": "python",
   "nbconvert_exporter": "python",
   "pygments_lexer": "ipython3",
   "version": "3.10.9"
  }
 },
 "nbformat": 4,
 "nbformat_minor": 5
}
