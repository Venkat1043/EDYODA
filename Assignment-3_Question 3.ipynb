{
 "cells": [
  {
   "cell_type": "markdown",
   "id": "d43d579b",
   "metadata": {},
   "source": [
    "## Write a Python function that accepts a string and calculate the number of upper case letters and lower case letters.\n",
    "## Sample String : 'The quick Brow Fox'\n",
    "## Expected Output :\n",
    "## No. of Upper case characters : 3\n",
    "## No. of Lower case Characters : 12"
   ]
  },
  {
   "cell_type": "code",
   "execution_count": 2,
   "id": "d724f419",
   "metadata": {},
   "outputs": [
    {
     "name": "stdout",
     "output_type": "stream",
     "text": [
      "Expected Output:\n",
      "No. of Upper case characters: 3\n",
      "No. of Lower case Characters: 12\n"
     ]
    }
   ],
   "source": [
    "def count_upper_lower(input_string):\n",
    "    num_upper = 0\n",
    "    num_lower = 0\n",
    "\n",
    "    for char in input_string:\n",
    "        if char.isupper():\n",
    "            num_upper += 1\n",
    "        elif char.islower():\n",
    "            num_lower += 1\n",
    "\n",
    "    return num_upper, num_lower\n",
    "\n",
    "sample_string = 'The quick Brow Fox'\n",
    "upper_count, lower_count = count_upper_lower(sample_string)\n",
    "\n",
    "print(\"Expected Output:\")\n",
    "print(\"No. of Upper case characters:\", upper_count)\n",
    "print(\"No. of Lower case Characters:\", lower_count)"
   ]
  }
 ],
 "metadata": {
  "kernelspec": {
   "display_name": "Python 3 (ipykernel)",
   "language": "python",
   "name": "python3"
  },
  "language_info": {
   "codemirror_mode": {
    "name": "ipython",
    "version": 3
   },
   "file_extension": ".py",
   "mimetype": "text/x-python",
   "name": "python",
   "nbconvert_exporter": "python",
   "pygments_lexer": "ipython3",
   "version": "3.10.9"
  }
 },
 "nbformat": 4,
 "nbformat_minor": 5
}
