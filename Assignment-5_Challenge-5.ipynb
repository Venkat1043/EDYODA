{
 "cells": [
  {
   "cell_type": "markdown",
   "id": "b96b304c",
   "metadata": {},
   "source": [
    "## Challenge 5: In this challenge, you will define methods for handling a bank account using concepts of inheritance.\n",
    "\n",
    "Problem statement\n",
    "In this challenge, we will be extending the previous challenge and implementing methods in the parent class and its corresponding child class.\n",
    "The initializers for both classes have been defined for you.\n",
    "\n",
    "## Task 1\n",
    "In the Account class, implement the getBalance() method that returns balance.\n",
    "\n",
    "## Task 2\n",
    "In the Account class, implement the deposit(amount) method that adds amount to the balance.\n",
    "It does not return anything.\n",
    "\n",
    "## Sample input\n",
    "* balance = 2000\n",
    "* deposit(500)\n",
    "* getbalance()\n",
    "* Sample output\n",
    "* 2500\n",
    "\n",
    "## Task 3\n",
    "In the Account class, implement the withdrawal(amount) method that subtracts the amount from the balance.\n",
    "It does not return anything.\n",
    "\n",
    "## Sample input\n",
    "* balance = 2000\n",
    "* withdrawal(500)\n",
    "* getbalance()\n",
    "* Sample output\n",
    "* 1500\n",
    "\n",
    "## Task 4\n",
    "In the SavingsAccount class, implement an interestAmount() method that returns the interest amount of the current balance.\n",
    "\n",
    "## Sample input\n",
    "* balance = 2000\n",
    "* interestRate = 5\n",
    "* interestAmount()\n",
    "* Sample output\n",
    "* 100"
   ]
  },
  {
   "cell_type": "code",
   "execution_count": 1,
   "id": "b87c1f1d",
   "metadata": {},
   "outputs": [
    {
     "name": "stdout",
     "output_type": "stream",
     "text": [
      "Updated Balance :  2000\n",
      "Interest Amount : 100.0\n"
     ]
    }
   ],
   "source": [
    "class Account:\n",
    "    def __init__(self,title,balance):\n",
    "        self.title = title\n",
    "        self.balance = balance\n",
    "    def getBalance(self):\n",
    "        return self.balance\n",
    "    def withdrawal(self,amount):\n",
    "        self.balance -= amount\n",
    "    def deposit(self,amount):\n",
    "        self.balance +=amount\n",
    "        \n",
    "        \n",
    "class SavingsAccount(Account):\n",
    "    def __init__(self, title, balance, interestRate):\n",
    "            super().__init__(title, balance)\n",
    "            self.interestRate = interestRate\n",
    "    def interestAmount(self):\n",
    "        return (self.interestRate * self.balance)/100\n",
    "    \n",
    "    \n",
    "saving_account = SavingsAccount(\"Venkat\",2000,5)\n",
    "\n",
    "saving_account.deposit(500)\n",
    "saving_account.withdrawal(500)\n",
    "\n",
    "interest_amount = saving_account.interestAmount()\n",
    "updated_balance = saving_account.getBalance()\n",
    "\n",
    "print(\"Updated Balance : \",updated_balance)\n",
    "print(\"Interest Amount :\",interest_amount)"
   ]
  },
  {
   "cell_type": "code",
   "execution_count": null,
   "id": "a8f0e893",
   "metadata": {},
   "outputs": [],
   "source": []
  }
 ],
 "metadata": {
  "kernelspec": {
   "display_name": "Python 3 (ipykernel)",
   "language": "python",
   "name": "python3"
  },
  "language_info": {
   "codemirror_mode": {
    "name": "ipython",
    "version": 3
   },
   "file_extension": ".py",
   "mimetype": "text/x-python",
   "name": "python",
   "nbconvert_exporter": "python",
   "pygments_lexer": "ipython3",
   "version": "3.10.9"
  }
 },
 "nbformat": 4,
 "nbformat_minor": 5
}
