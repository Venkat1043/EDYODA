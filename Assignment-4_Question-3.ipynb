{
 "cells": [
  {
   "cell_type": "markdown",
   "id": "8bc07e70",
   "metadata": {},
   "source": [
    "## Write a Python program to square the elements of a list using map() function.\n",
    "## Sample List: [4, 5, 2, 9]\n",
    "\n",
    "## Square the elements of the list:\n",
    "## [16, 25, 4, 81]"
   ]
  },
  {
   "cell_type": "code",
   "execution_count": 1,
   "id": "3ed857e7",
   "metadata": {},
   "outputs": [
    {
     "name": "stdout",
     "output_type": "stream",
     "text": [
      "Sample list: [4, 5, 2, 9]\n",
      "Square the elements of the list:\n",
      "[16, 25, 4, 81]\n"
     ]
    }
   ],
   "source": [
    "def square(x):\n",
    "    return x ** 2\n",
    "\n",
    "numbers = [4, 5, 2, 9]\n",
    "\n",
    "squared_numbers = list(map(square, numbers))\n",
    "\n",
    "print(\"Sample list:\", numbers)\n",
    "print(\"Square the elements of the list:\")\n",
    "print(squared_numbers)"
   ]
  },
  {
   "cell_type": "code",
   "execution_count": null,
   "id": "4d24e010",
   "metadata": {},
   "outputs": [],
   "source": []
  }
 ],
 "metadata": {
  "kernelspec": {
   "display_name": "Python 3 (ipykernel)",
   "language": "python",
   "name": "python3"
  },
  "language_info": {
   "codemirror_mode": {
    "name": "ipython",
    "version": 3
   },
   "file_extension": ".py",
   "mimetype": "text/x-python",
   "name": "python",
   "nbconvert_exporter": "python",
   "pygments_lexer": "ipython3",
   "version": "3.10.9"
  }
 },
 "nbformat": 4,
 "nbformat_minor": 5
}
