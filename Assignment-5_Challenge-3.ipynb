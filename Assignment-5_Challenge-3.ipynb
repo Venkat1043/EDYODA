{
 "cells": [
  {
   "cell_type": "markdown",
   "id": "3732f8f2",
   "metadata": {},
   "source": [
    "## Challenge 3: In this challenge, you will implement a student class\n",
    "## Problem statement\n",
    "* Implement the complete Student class by completing the tasks below\n",
    "\n",
    "Task\n",
    "\n",
    "👉 Implement the following properties as private:\n",
    "* name\n",
    "* rollNumber\n",
    "\n",
    "👉 Include the following methods to get and set the private properties above:\n",
    "* getName()\n",
    "* setName()\n",
    "* getRollNumber()\n",
    "* setRollNumber()\n",
    "\n",
    "👉 Implement this class according to the rules of encapsulation.\n",
    "* Input - Checking all the properties and methods\n",
    "* Output - Expecting perfectly defined fields and getter/setters\n",
    "\n",
    "## Note: Do not use initializers to initialize the properties. Use the set methods to do so.\n",
    "* If the setter is not defined properly, the corresponding getter will also generate an error even if the getter is defined properly."
   ]
  },
  {
   "cell_type": "code",
   "execution_count": 2,
   "id": "6f6cf28d",
   "metadata": {},
   "outputs": [
    {
     "name": "stdout",
     "output_type": "stream",
     "text": [
      "Name of the Student : Venkat\n",
      "Roll Number: 342\n",
      "Name of the Course : python\n"
     ]
    }
   ],
   "source": [
    "class Student:\n",
    "    def setName(self, name):\n",
    "        self.__name = name\n",
    "\n",
    "    def getName(self):\n",
    "        return self.__name\n",
    "\n",
    "    def setRollNumber(self, rollNumber):\n",
    "        self.__rollNumber = rollNumber\n",
    "\n",
    "    def getRollNumber(self):\n",
    "        return self.__rollNumber\n",
    "    \n",
    "    def setCourse(self,courseName):\n",
    "        self.__courseName = courseName\n",
    "        \n",
    "    def getCourse(self):\n",
    "        return self.__courseName\n",
    "    \n",
    "    \n",
    "student =Student()\n",
    "\n",
    "student.setName(\"Venkat\")\n",
    "student.setRollNumber(342)\n",
    "student.setCourse(\"python\")\n",
    "\n",
    "print(\"Name of the Student :\",student.getName())\n",
    "print(\"Roll Number:\", student.getRollNumber())\n",
    "print(\"Name of the Course :\",student.getCourse())"
   ]
  },
  {
   "cell_type": "code",
   "execution_count": null,
   "id": "b59e01cb",
   "metadata": {},
   "outputs": [],
   "source": []
  }
 ],
 "metadata": {
  "kernelspec": {
   "display_name": "Python 3 (ipykernel)",
   "language": "python",
   "name": "python3"
  },
  "language_info": {
   "codemirror_mode": {
    "name": "ipython",
    "version": 3
   },
   "file_extension": ".py",
   "mimetype": "text/x-python",
   "name": "python",
   "nbconvert_exporter": "python",
   "pygments_lexer": "ipython3",
   "version": "3.10.9"
  }
 },
 "nbformat": 4,
 "nbformat_minor": 5
}
