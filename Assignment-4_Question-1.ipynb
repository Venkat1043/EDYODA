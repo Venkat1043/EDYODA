{
 "cells": [
  {
   "cell_type": "markdown",
   "id": "39c168ef",
   "metadata": {},
   "source": [
    "## Write a Python program to create a lambda function that adds 25 to a given number passed in as an argument.\n",
    "\n",
    "## sample input: 10\n",
    "## sample output: 35"
   ]
  },
  {
   "cell_type": "code",
   "execution_count": null,
   "id": "21eab7c8",
   "metadata": {},
   "outputs": [],
   "source": []
  },
  {
   "cell_type": "code",
   "execution_count": 2,
   "id": "25477aa3",
   "metadata": {},
   "outputs": [
    {
     "name": "stdout",
     "output_type": "stream",
     "text": [
      "Sample input: 10\n",
      "Sample output: 35\n"
     ]
    }
   ],
   "source": [
    "adding_25 = lambda x: x + 25\n",
    "\n",
    "number = 10\n",
    "\n",
    "result = adding_25(number)\n",
    "\n",
    "print(\"Sample input:\", number)\n",
    "print(\"Sample output:\", result)"
   ]
  },
  {
   "cell_type": "code",
   "execution_count": null,
   "id": "1503a486",
   "metadata": {},
   "outputs": [],
   "source": []
  },
  {
   "cell_type": "code",
   "execution_count": null,
   "id": "b4ff5014",
   "metadata": {},
   "outputs": [],
   "source": []
  }
 ],
 "metadata": {
  "kernelspec": {
   "display_name": "Python 3 (ipykernel)",
   "language": "python",
   "name": "python3"
  },
  "language_info": {
   "codemirror_mode": {
    "name": "ipython",
    "version": 3
   },
   "file_extension": ".py",
   "mimetype": "text/x-python",
   "name": "python",
   "nbconvert_exporter": "python",
   "pygments_lexer": "ipython3",
   "version": "3.10.9"
  }
 },
 "nbformat": 4,
 "nbformat_minor": 5
}
