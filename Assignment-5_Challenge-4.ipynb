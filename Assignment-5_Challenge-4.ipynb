{
 "cells": [
  {
   "cell_type": "markdown",
   "id": "d13e2b01",
   "metadata": {},
   "source": [
    "## Challenge 4: Implement a Banking Account\n",
    "Problem statement\n",
    "* Implement the basic structure of a parent class, Account, and a child class, SavingsAccount.\n",
    "\n",
    "## Task 1\n",
    "\n",
    "👉 Implement properties as instance variables, and set them to None or 0.\n",
    "Account has the following properties:\n",
    "* title\n",
    "* Balance\n",
    "\n",
    "SavingsAccount has the following properties:\n",
    "* interestRate\n",
    "\n",
    "## Task 2\n",
    "Create an initializer for Account class. The order of parameters should be the following, where Ashish is the title, and 5000 is the account balance:\n",
    "* Account(\"Ashish\", 5000)\n",
    "\n",
    "## Task 3\n",
    "Implement properties as instance variables, and set them to None or 0.\n",
    "Create an initializer for the SavingsAccount class using the initializer of the Account class in the order below:\n",
    "* Account(\"Ashish\", 5000, 5)\n",
    "* Here, Ashish is the title and 5000 is the balance and 5 is the interestRate."
   ]
  },
  {
   "cell_type": "code",
   "execution_count": 3,
   "id": "ea567df2",
   "metadata": {},
   "outputs": [
    {
     "name": "stdout",
     "output_type": "stream",
     "text": [
      "Account Holer Title :Ashish\n",
      "Account Balance :5000\n",
      "Interest Rate :5\n",
      "\n",
      "Account Title : Ashish\n",
      "Account Balance : 5000\n",
      "Interset Rate :  5.0\n"
     ]
    }
   ],
   "source": [
    "class Account:\n",
    "    def __init__(self,title,Balance):\n",
    "        self.title = title\n",
    "        self.Balance = Balance\n",
    "\n",
    "class SavingsAccount(Account):\n",
    "    def __init__(self,title,Balance,interestRate):\n",
    "        super().__init__(title,Balance)\n",
    "        self.interestRate = interestRate\n",
    "Account_Holer_Name = input(\"Account Holer Title :\")\n",
    "Account_Balance = int(input(\"Account Balance :\"))\n",
    "Rate_of_Interest = float(input(\"Interest Rate :\"))\n",
    "\n",
    "savings_account = SavingsAccount(Account_Holer_Name,Account_Balance,Rate_of_Interest)\n",
    "\n",
    "print()\n",
    "\n",
    "print(\"Account Title :\",savings_account.title)\n",
    "print(\"Account Balance :\",savings_account.Balance)\n",
    "print(\"Interset Rate : \",savings_account.interestRate)"
   ]
  },
  {
   "cell_type": "code",
   "execution_count": null,
   "id": "516f0b23",
   "metadata": {},
   "outputs": [],
   "source": []
  }
 ],
 "metadata": {
  "kernelspec": {
   "display_name": "Python 3 (ipykernel)",
   "language": "python",
   "name": "python3"
  },
  "language_info": {
   "codemirror_mode": {
    "name": "ipython",
    "version": 3
   },
   "file_extension": ".py",
   "mimetype": "text/x-python",
   "name": "python",
   "nbconvert_exporter": "python",
   "pygments_lexer": "ipython3",
   "version": "3.10.9"
  }
 },
 "nbformat": 4,
 "nbformat_minor": 5
}
