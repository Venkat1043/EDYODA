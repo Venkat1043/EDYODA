{
 "cells": [
  {
   "cell_type": "markdown",
   "id": "fd7c5d33",
   "metadata": {},
   "source": [
    "## Write a Python program to get the Fibonacci series between 0 to 50\n",
    "Note : The Fibonacci Sequence is the series of numbers :\n",
    "0, 1, 1, 2, 3, 5, 8, 13, 21, ....\n",
    "Every next number is found by adding up the two numbers before it.\n",
    "Expected Output : 1 1 2 3 5 8 13 21 34"
   ]
  },
  {
   "cell_type": "code",
   "execution_count": 11,
   "id": "8bfdecac",
   "metadata": {},
   "outputs": [
    {
     "name": "stdout",
     "output_type": "stream",
     "text": [
      "up to how many number you need Fibonacci Sequence: 10\n",
      "0\n",
      "1\n",
      "1\n",
      "2\n",
      "3\n",
      "5\n",
      "8\n",
      "13\n",
      "21\n",
      "34\n"
     ]
    },
    {
     "data": {
      "text/plain": [
       "34"
      ]
     },
     "execution_count": 11,
     "metadata": {},
     "output_type": "execute_result"
    }
   ],
   "source": [
    "n = int(input(\"up to how many number you need Fibonacci Sequence: \" ))\n",
    "a = 0;\n",
    "b = 1;\n",
    "\n",
    "if n == 1:\n",
    "    print(a);\n",
    "    \n",
    "else:\n",
    "    print(a);\n",
    "    print(b);\n",
    "       \n",
    "    for i in range(2,n):\n",
    "        c = a + b;\n",
    "        a = b;\n",
    "        b = c;\n",
    "        \n",
    "        print(c);\n",
    "        \n",
    "# OUTPUT = up to how many number you need Fibonacci Sequence: 10\n",
    "0\n",
    "1\n",
    "1\n",
    "2\n",
    "3\n",
    "5\n",
    "8\n",
    "13\n",
    "21\n",
    "34"
   ]
  },
  {
   "cell_type": "code",
   "execution_count": null,
   "id": "e5bd8220",
   "metadata": {},
   "outputs": [],
   "source": []
  }
 ],
 "metadata": {
  "kernelspec": {
   "display_name": "Python 3 (ipykernel)",
   "language": "python",
   "name": "python3"
  },
  "language_info": {
   "codemirror_mode": {
    "name": "ipython",
    "version": 3
   },
   "file_extension": ".py",
   "mimetype": "text/x-python",
   "name": "python",
   "nbconvert_exporter": "python",
   "pygments_lexer": "ipython3",
   "version": "3.10.9"
  }
 },
 "nbformat": 4,
 "nbformat_minor": 5
}
